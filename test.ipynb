{
 "cells": [
  {
   "cell_type": "code",
   "execution_count": 18,
   "metadata": {},
   "outputs": [],
   "source": [
    "# Funciones\n",
    "\n",
    "def sepWords(palabras,separador):\n",
    "    word=''\n",
    "    words=[]\n",
    "    for i in palabras:\n",
    "      word+=i\n",
    "      if i== separador:\n",
    "        words.append(word[:-1])\n",
    "        word=''\n",
    "    \n",
    "    if '\\n' in word:\n",
    "        words.append(word[:-1])\n",
    "    else:\n",
    "      words.append(word)    \n",
    "    return  words "
   ]
  },
  {
   "cell_type": "code",
   "execution_count": 19,
   "metadata": {},
   "outputs": [
    {
     "name": "stdout",
     "output_type": "stream",
     "text": [
      "<_io.TextIOWrapper name='registros_.txt' mode='r' encoding='utf-8'>\n"
     ]
    }
   ],
   "source": [
    "file= open('registros_.txt',encoding='utf-8')\n",
    "print(file)"
   ]
  },
  {
   "cell_type": "code",
   "execution_count": 20,
   "metadata": {},
   "outputs": [],
   "source": [
    "contenido=file.readlines()"
   ]
  },
  {
   "cell_type": "code",
   "execution_count": 21,
   "metadata": {},
   "outputs": [],
   "source": [
    "base_datos={}\n",
    "base_datos['usuario']=[]\n",
    "base_datos['municipios']=[]\n",
    "base_datos['estaciones']=[]\n",
    "base_datos['variables']=[]\n",
    "base_datos['fechas']=[]\n",
    "for linea in contenido:\n",
    "    if linea[0]=='<':\n",
    "        base_datos['usuario']+=[sepWords(linea[1:-2],';')]\n",
    "    elif linea[0]==':':\n",
    "        string_municipios=linea[1:-1]\n",
    "        words=sepWords(string_municipios,',')\n",
    "        base_datos['municipios']+=words\n",
    "    elif 'PM10' in linea:\n",
    "        base_datos['variables']+=[sepWords(linea,';')]\n",
    "    elif linea[4]=='-':\n",
    "        base_datos['fechas']+=[sepWords(linea,';')]\n",
    "    else:\n",
    "        base_datos['estaciones']+=[sepWords(linea,',')]"
   ]
  },
  {
   "cell_type": "code",
   "execution_count": 22,
   "metadata": {},
   "outputs": [
    {
     "data": {
      "text/plain": [
       "{'usuario': [['1010101010', 'Mariana Montoya', '1234', 'Administrador'],\n",
       "  ['1111111111', 'Elkin Perez', '1234', 'Operador'],\n",
       "  ['1212121212', 'Camila Serna', '1234', 'Administrador'],\n",
       "  ['1313131313', 'Oscar Jaramillo', '1234', 'Operador']],\n",
       " 'municipios': ['Medellín',\n",
       "  'Bello',\n",
       "  'Itagüí',\n",
       "  'Caldas',\n",
       "  'La Estrella',\n",
       "  'Barbosa'],\n",
       " 'estaciones': [['1', 'Universidad San Buenaventura', 'Medellín'],\n",
       "  ['2', 'I.E. Concejo Municipal de Itagüí', 'Itagüí'],\n",
       "  ['3', 'E U Joaquín Aristizabal', 'Caldas'],\n",
       "  ['4', 'Hospital', 'La Estrella'],\n",
       "  ['5', 'Torre Social', 'Barbosa'],\n",
       "  ['6', 'Parque principal', 'Caldas']],\n",
       " 'variables': [['PM10[0.0:100.0,ug/m3]',\n",
       "   'PM25[0.0:200.0,ug/m3]',\n",
       "   'Temperatura[-20.0:50.0,°C]',\n",
       "   'Humedad[0.0:100.0,%]']],\n",
       " 'fechas': [['2019-07-01 00:00:00', '1', '{3.5,6.2,27.0,34.0}'],\n",
       "  ['2019-07-01 00:10:00', '2', '{8.1,-999.0,29.0,37.0}'],\n",
       "  ['2019-07-01 00:00:00', '3', '{7.9,-999.0,31.0,-999.0}'],\n",
       "  ['2019-04-01 00:00:00', '4', '{-999.0,6.4,-999.0,41.0}']]}"
      ]
     },
     "execution_count": 22,
     "metadata": {},
     "output_type": "execute_result"
    }
   ],
   "source": [
    "base_datos"
   ]
  }
 ],
 "metadata": {
  "kernelspec": {
   "display_name": "Python 3",
   "language": "python",
   "name": "python3"
  },
  "language_info": {
   "codemirror_mode": {
    "name": "ipython",
    "version": 3
   },
   "file_extension": ".py",
   "mimetype": "text/x-python",
   "name": "python",
   "nbconvert_exporter": "python",
   "pygments_lexer": "ipython3",
   "version": "3.11.2"
  },
  "orig_nbformat": 4
 },
 "nbformat": 4,
 "nbformat_minor": 2
}
